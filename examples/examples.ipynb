{
 "cells": [
  {
   "cell_type": "code",
   "execution_count": 1,
   "id": "6cce1824",
   "metadata": {},
   "outputs": [],
   "source": [
    "import nimblend as nd\n",
    "import numpy as np"
   ]
  },
  {
   "cell_type": "code",
   "execution_count": 2,
   "id": "0c5ec502",
   "metadata": {},
   "outputs": [
    {
     "name": "stdout",
     "output_type": "stream",
     "text": [
      "Array((3, 3), {'y': (3,), 'x': (3,)})\n",
      "True\n"
     ]
    },
    {
     "name": "stderr",
     "output_type": "stream",
     "text": [
      "/home/vscode/.local/lib/python3.12/site-packages/zarr/codecs/vlen_utf8.py:44: UserWarning: The codec `vlen-utf8` is currently not part in the Zarr format 3 specification. It may not be supported by other zarr implementations and may change in the future.\n",
      "  return cls(**configuration_parsed)\n",
      "/home/vscode/.local/lib/python3.12/site-packages/zarr/core/array.py:3989: UserWarning: The dtype `<U1` is currently not part in the Zarr format 3 specification. It may not be supported by other zarr implementations and may change in the future.\n",
      "  meta = AsyncArray._create_metadata_v3(\n",
      "/home/vscode/.local/lib/python3.12/site-packages/zarr/codecs/vlen_utf8.py:44: UserWarning: The codec `vlen-utf8` is currently not part in the Zarr format 3 specification. It may not be supported by other zarr implementations and may change in the future.\n",
      "  return cls(**configuration_parsed)\n"
     ]
    }
   ],
   "source": [
    "# Create two arrays with different coordinates\n",
    "data1 = np.array([[1, 2], [3, 4]])\n",
    "coords1 = {'x': ['a', 'b'], 'y': [0, 1]}\n",
    "arr1 = nd.Array(data1, coords1)\n",
    "\n",
    "data2 = np.array([[10, 20, 30], [40, 50, 60]])\n",
    "coords2 = {'x': ['b', 'c'], 'y': [0, 1, 2]}\n",
    "arr2 = nd.Array(data2, coords2)\n",
    "\n",
    "# Operation automatically aligns coordinates\n",
    "result = arr1 + arr2\n",
    "print(result)\n",
    "\n",
    "# Create a lazy array with Dask\n",
    "lazy_arr = nd.Array(data1, coords1, chunks=\"auto\")\n",
    "print(lazy_arr.is_lazy)  # True\n",
    "\n",
    "# Save array to Zarr format\n",
    "nd.to_zarr(result, \"result.zarr\")\n",
    "\n",
    "# Load from Zarr\n",
    "loaded = nd.from_zarr(\"result.zarr\")"
   ]
  }
 ],
 "metadata": {
  "kernelspec": {
   "display_name": "Python 3",
   "language": "python",
   "name": "python3"
  },
  "language_info": {
   "codemirror_mode": {
    "name": "ipython",
    "version": 3
   },
   "file_extension": ".py",
   "mimetype": "text/x-python",
   "name": "python",
   "nbconvert_exporter": "python",
   "pygments_lexer": "ipython3",
   "version": "3.12.9"
  }
 },
 "nbformat": 4,
 "nbformat_minor": 5
}

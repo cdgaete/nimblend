{
 "cells": [
  {
   "cell_type": "code",
   "execution_count": null,
   "id": "6cce1824",
   "metadata": {},
   "outputs": [],
   "source": [
    "import numpy as np\n",
    "import icechunk\n",
    "from nimblend import Array, to_zarr, from_zarr, to_icechunk, from_series, to_series"
   ]
  },
  {
   "cell_type": "code",
   "execution_count": null,
   "id": "0c5ec502",
   "metadata": {},
   "outputs": [],
   "source": [
    "# Create two arrays with different coordinates\n",
    "data1 = np.array([[1, 2], [3, 4]])\n",
    "coords1 = {'x': ['a', 'b'], 'y': [0, 1]}\n",
    "arr1 = Array(data1, coords1)\n",
    "\n",
    "data2 = np.array([[10, 20, 30], [40, 50, 60]])\n",
    "coords2 = {'x': ['b', 'c'], 'y': [0, 1, 2]}\n",
    "arr2 = Array(data2, coords2)\n",
    "\n",
    "# Operation automatically aligns coordinates\n",
    "result = arr1 + arr2\n",
    "print(result)\n",
    "\n",
    "# Create a lazy array with Dask\n",
    "lazy_arr = Array(data1, coords1, chunks=\"auto\")\n",
    "print(lazy_arr.is_lazy)  # True\n",
    "\n",
    "# Save array to Zarr format\n",
    "to_zarr(result, \"result.zarr\")\n",
    "\n",
    "# Load from Zarr\n",
    "loaded = from_zarr(\"result.zarr\")"
   ]
  },
  {
   "cell_type": "code",
   "execution_count": null,
   "id": "ad20149f",
   "metadata": {},
   "outputs": [],
   "source": [
    "storage = icechunk.local_filesystem_storage(\"/workspaces/nimblend/dataset\")\n",
    "repo = icechunk.Repository.open_or_create(storage)\n",
    "session = repo.writable_session(\"main\")"
   ]
  },
  {
   "cell_type": "code",
   "execution_count": null,
   "id": "c8f90c10",
   "metadata": {},
   "outputs": [],
   "source": [
    "def create_example_arrays():\n",
    "    # Create some sample data\n",
    "    data1 = np.array([\n",
    "        [[1, 2, 3], [4, 5, 6]],\n",
    "        [[7, 8, 9], [10, 11, 12]],\n",
    "    ])\n",
    "\n",
    "    data2 = np.array([\n",
    "        [[13, 14, 15], [16, 17, 18]],\n",
    "        [[19, 20, 21], [22, 23, 24]],\n",
    "    ])\n",
    "\n",
    "    # Define coordinates with strings for dimensions\n",
    "    coords1 = {\n",
    "        'x': np.array(['A', 'B']),\n",
    "        'y': np.array(['one', 'two']),\n",
    "        'z': np.array(['i', 'ii', 'iii'])\n",
    "    }\n",
    "\n",
    "    coords2 = {\n",
    "        'x': np.array(['C', 'D']),\n",
    "        'y': np.array(['three', 'four']),\n",
    "        'z': np.array(['iv', 'v', 'vi'])\n",
    "    }\n",
    "\n",
    "    # Create NimbleNd Arrays\n",
    "    arr1 = Array(data1, coords=coords1, dims=['x', 'y', 'z'], name='Array 1')\n",
    "    arr2 = Array(data2, coords=coords2, dims=['x', 'y', 'z'], name='Array 2')\n",
    "\n",
    "    return arr1, arr2"
   ]
  },
  {
   "cell_type": "code",
   "execution_count": null,
   "id": "3c0ce771",
   "metadata": {},
   "outputs": [],
   "source": [
    "arr1, arr2 = create_example_arrays()"
   ]
  },
  {
   "cell_type": "code",
   "execution_count": null,
   "id": "aee9e5e1",
   "metadata": {},
   "outputs": [],
   "source": [
    "to_icechunk(result, session)"
   ]
  },
  {
   "cell_type": "code",
   "execution_count": null,
   "id": "88edccc1",
   "metadata": {},
   "outputs": [],
   "source": [
    "def test_operations():\n",
    "    # Create example arrays\n",
    "    arr1, arr2 = create_example_arrays()\n",
    "\n",
    "    # Test addition\n",
    "    print(\"Adding arrays:\")\n",
    "    result_add = arr1 + arr2\n",
    "    print(result_add)\n",
    "\n",
    "    # Export to Zarr format\n",
    "    print(\"\\nExporting Array 1 to Zarr format...\")\n",
    "    to_zarr(arr1, 'arr1.zarr')\n",
    "\n",
    "    # Import from Zarr format\n",
    "    print(\"\\nImporting Array from Zarr format...\")\n",
    "    imported_arr1 = from_zarr('arr1.zarr')\n",
    "    print(imported_arr1)\n",
    "\n",
    "    # Example usage of to_icechunk would go here (ensure icechunk is installed)\n",
    "    # Assuming a session is created and available as `session`\n",
    "    # print(\"\\nExporting Array 1 to IceChunk format...\")\n",
    "    # to_icechunk(arr1, session, group='example_group')\n",
    "\n",
    "    # Example series conversion (using strings for Series coordinates)\n",
    "    print(\"\\nConverting Array 1 to a pandas Series:\")\n",
    "    series_arr1 = to_series(arr1, format='pandas')\n",
    "    print(series_arr1)\n",
    "\n",
    "    print(\"\\nConverting Series back to NimbleNd Array:\")\n",
    "    converted_arr1 = from_series(series_arr1)\n",
    "    print(converted_arr1)"
   ]
  }
 ],
 "metadata": {
  "kernelspec": {
   "display_name": "Python 3",
   "language": "python",
   "name": "python3"
  },
  "language_info": {
   "codemirror_mode": {
    "name": "ipython",
    "version": 3
   },
   "file_extension": ".py",
   "mimetype": "text/x-python",
   "name": "python",
   "nbconvert_exporter": "python",
   "pygments_lexer": "ipython3",
   "version": "3.12.9"
  }
 },
 "nbformat": 4,
 "nbformat_minor": 5
}

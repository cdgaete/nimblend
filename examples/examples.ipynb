{
 "cells": [
  {
   "cell_type": "code",
   "execution_count": 1,
   "id": "6cce1824",
   "metadata": {},
   "outputs": [],
   "source": [
    "import nimblend as nd\n",
    "import numpy as np"
   ]
  },
  {
   "cell_type": "code",
   "execution_count": 2,
   "id": "0c5ec502",
   "metadata": {},
   "outputs": [
    {
     "name": "stdout",
     "output_type": "stream",
     "text": [
      "Array((3, 3), {'x': (3,), 'y': (3,)})\n",
      "True\n"
     ]
    },
    {
     "name": "stderr",
     "output_type": "stream",
     "text": [
      "/home/carlos/remote/nimblend/.venv/lib/python3.13/site-packages/zarr/codecs/vlen_utf8.py:44: UserWarning: The codec `vlen-utf8` is currently not part in the Zarr format 3 specification. It may not be supported by other zarr implementations and may change in the future.\n",
      "  return cls(**configuration_parsed)\n",
      "/home/carlos/remote/nimblend/.venv/lib/python3.13/site-packages/zarr/core/array.py:3989: UserWarning: The dtype `<U1` is currently not part in the Zarr format 3 specification. It may not be supported by other zarr implementations and may change in the future.\n",
      "  meta = AsyncArray._create_metadata_v3(\n",
      "/home/carlos/remote/nimblend/.venv/lib/python3.13/site-packages/zarr/codecs/vlen_utf8.py:44: UserWarning: The codec `vlen-utf8` is currently not part in the Zarr format 3 specification. It may not be supported by other zarr implementations and may change in the future.\n",
      "  return cls(**configuration_parsed)\n"
     ]
    }
   ],
   "source": [
    "# Create two arrays with different coordinates\n",
    "data1 = np.array([[1, 2], [3, 4]])\n",
    "coords1 = {'x': ['a', 'b'], 'y': [0, 1]}\n",
    "arr1 = nd.Array(data1, coords1)\n",
    "\n",
    "data2 = np.array([[10, 20, 30], [40, 50, 60]])\n",
    "coords2 = {'x': ['b', 'c'], 'y': [0, 1, 2]}\n",
    "arr2 = nd.Array(data2, coords2)\n",
    "\n",
    "# Operation automatically aligns coordinates\n",
    "result = arr1 + arr2\n",
    "print(result)\n",
    "\n",
    "# Create a lazy array with Dask\n",
    "lazy_arr = nd.Array(data1, coords1, chunks=\"auto\")\n",
    "print(lazy_arr.is_lazy)  # True\n",
    "\n",
    "# Save array to Zarr format\n",
    "nd.to_zarr(result, \"result.zarr\")\n",
    "\n",
    "# Load from Zarr\n",
    "loaded = nd.from_zarr(\"result.zarr\")"
   ]
  },
  {
   "cell_type": "code",
   "execution_count": 3,
   "id": "aab053c9",
   "metadata": {},
   "outputs": [
    {
     "data": {
      "text/html": [
       "<div><p><b>Array</b>((2, 2)), {<b>x</b>: (2,), <b>y</b>: (2,)}</p><table><tr><th>Dimensions</th><th>Coordinates</th></tr><tr><td>x</td><td>['a' 'b']</td></tr><tr><td>y</td><td>[0 1]</td></tr></table><p><b>Data preview:</b></p><pre>[1 2 3 4]</pre></div>"
      ],
      "text/plain": [
       "Array((2, 2), {'x': (2,), 'y': (2,)})"
      ]
     },
     "execution_count": 3,
     "metadata": {},
     "output_type": "execute_result"
    }
   ],
   "source": [
    "arr1"
   ]
  },
  {
   "cell_type": "code",
   "execution_count": 4,
   "id": "87e1f597",
   "metadata": {},
   "outputs": [
    {
     "data": {
      "text/html": [
       "<div><p><b>Array</b>((2, 3)), {<b>x</b>: (2,), <b>y</b>: (3,)}</p><table><tr><th>Dimensions</th><th>Coordinates</th></tr><tr><td>x</td><td>['b' 'c']</td></tr><tr><td>y</td><td>[0 1 2]</td></tr></table><p><b>Data preview:</b></p><pre>[10 20 30 40 50 60]</pre></div>"
      ],
      "text/plain": [
       "Array((2, 3), {'x': (2,), 'y': (3,)})"
      ]
     },
     "execution_count": 4,
     "metadata": {},
     "output_type": "execute_result"
    }
   ],
   "source": [
    "arr2"
   ]
  },
  {
   "cell_type": "code",
   "execution_count": 5,
   "id": "e9efec59",
   "metadata": {},
   "outputs": [
    {
     "data": {
      "text/html": [
       "<div><p><b>Array</b>((3, 3)), {<b>x</b>: (3,), <b>y</b>: (3,)}</p><table><tr><th>Dimensions</th><th>Coordinates</th></tr><tr><td>x</td><td>['a' 'b' 'c']</td></tr><tr><td>y</td><td>[0 1 2]</td></tr></table><p><b>Data preview:</b></p><pre>[ 1  2  0 13 24 30 40 50 60]</pre></div>"
      ],
      "text/plain": [
       "Array((3, 3), {'x': (3,), 'y': (3,)})"
      ]
     },
     "execution_count": 5,
     "metadata": {},
     "output_type": "execute_result"
    }
   ],
   "source": [
    "result"
   ]
  },
  {
   "cell_type": "code",
   "execution_count": 6,
   "id": "c69c376f",
   "metadata": {},
   "outputs": [],
   "source": [
    "import nimblend as nd\n",
    "import numpy as np\n",
    "\n",
    "# Create temperature data for multiple stations over time\n",
    "times = [1,2,3,4,5,6,7,8]\n",
    "stations = ['A', 'B', 'C', 'D']\n",
    "temps = np.random.normal(15, 5, size=(len(times), len(stations)))\n",
    "\n",
    "# Create a NimbleNd array\n",
    "temp_array = nd.Array(\n",
    "    temps,\n",
    "    coords={'time': times, 'station': stations},\n",
    "    dims=['time', 'station'],\n",
    "    name='temperature'\n",
    ")\n",
    "\n",
    "# Apply a 3-day rolling mean along the time dimension\n",
    "# First convert to pandas for the operation\n",
    "temp_series = nd.to_series(temp_array)\n",
    "rolled = temp_series.groupby('station').rolling(3).mean()\n",
    "rolled = rolled.droplevel(0)\n",
    "\n",
    "# Convert back to NimbleNd\n",
    "smoothed_temps = nd.from_series(rolled)\n",
    "\n",
    "# Extract data for a specific station\n",
    "station_a = temp_array[{'station': 'A'}]\n"
   ]
  },
  {
   "cell_type": "code",
   "execution_count": 7,
   "id": "a5585ae1",
   "metadata": {},
   "outputs": [
    {
     "data": {
      "text/plain": [
       "time  station\n",
       "1     A          18.847844\n",
       "      B          13.174778\n",
       "      C          19.013597\n",
       "      D          14.751049\n",
       "2     A          12.285680\n",
       "      B          14.091904\n",
       "      C          11.542981\n",
       "      D          16.968790\n",
       "3     A          21.381083\n",
       "      B           5.977173\n",
       "      C          15.179438\n",
       "      D          15.375894\n",
       "4     A           7.715090\n",
       "      B          11.724534\n",
       "      C          13.486774\n",
       "      D          15.410758\n",
       "5     A          10.834931\n",
       "      B          13.994332\n",
       "      C          11.703974\n",
       "      D          10.893669\n",
       "6     A          15.311596\n",
       "      B          16.484664\n",
       "      C          11.308292\n",
       "      D          17.373736\n",
       "7     A          11.302440\n",
       "      B           8.210230\n",
       "      C          14.162070\n",
       "      D          13.968465\n",
       "8     A          11.111485\n",
       "      B          13.723645\n",
       "      C          15.977808\n",
       "      D          11.627564\n",
       "Name: temperature, dtype: float64"
      ]
     },
     "execution_count": 7,
     "metadata": {},
     "output_type": "execute_result"
    }
   ],
   "source": [
    "temp_series"
   ]
  },
  {
   "cell_type": "code",
   "execution_count": 8,
   "id": "0a5c99fd",
   "metadata": {},
   "outputs": [
    {
     "data": {
      "text/html": [
       "<div><p><b>Array</b>((8, 4)), {<b>time</b>: (8,), <b>station</b>: (4,)}, name=<b>value</b></p><table><tr><th>Dimensions</th><th>Coordinates</th></tr><tr><td>time</td><td>[1 2 3 4 5 6 7 8]</td></tr><tr><td>station</td><td>['A' 'B' 'C' 'D']</td></tr></table><p><b>Data preview:</b></p><pre>[        nan         nan         nan         nan         nan         nan\n",
       "         nan         nan 17.50486889 11.08128506, ...]</pre></div>"
      ],
      "text/plain": [
       "Array((8, 4), {'time': (8,), 'station': (4,)}, name='value')"
      ]
     },
     "execution_count": 8,
     "metadata": {},
     "output_type": "execute_result"
    }
   ],
   "source": [
    "smoothed_temps"
   ]
  },
  {
   "cell_type": "code",
   "execution_count": 9,
   "id": "c8c5651b",
   "metadata": {},
   "outputs": [
    {
     "data": {
      "text/html": [
       "<div><p><b>Array</b>((8, 1)), {<b>time</b>: (8,), <b>station</b>: (1,)}, name=<b>temperature</b></p><table><tr><th>Dimensions</th><th>Coordinates</th></tr><tr><td>time</td><td>[1 2 3 4 5 6 7 8]</td></tr><tr><td>station</td><td>['A']</td></tr></table><p><b>Data preview:</b></p><pre>[18.84784394 12.28567961 21.38108313  7.71509033 10.83493097 15.31159634\n",
       " 11.30244034 11.11148452]</pre></div>"
      ],
      "text/plain": [
       "Array((8, 1), {'time': (8,), 'station': (1,)}, name='temperature')"
      ]
     },
     "execution_count": 9,
     "metadata": {},
     "output_type": "execute_result"
    }
   ],
   "source": [
    "station_a"
   ]
  },
  {
   "cell_type": "code",
   "execution_count": 10,
   "id": "c3e4acbf",
   "metadata": {},
   "outputs": [
    {
     "name": "stderr",
     "output_type": "stream",
     "text": [
      "/home/carlos/remote/nimblend/.venv/lib/python3.13/site-packages/zarr/codecs/vlen_utf8.py:44: UserWarning: The codec `vlen-utf8` is currently not part in the Zarr format 3 specification. It may not be supported by other zarr implementations and may change in the future.\n",
      "  return cls(**configuration_parsed)\n",
      "/home/carlos/remote/nimblend/.venv/lib/python3.13/site-packages/zarr/core/array.py:3989: UserWarning: The dtype `<U3` is currently not part in the Zarr format 3 specification. It may not be supported by other zarr implementations and may change in the future.\n",
      "  meta = AsyncArray._create_metadata_v3(\n"
     ]
    }
   ],
   "source": [
    "import nimblend as nd\n",
    "import numpy as np\n",
    "from scipy import ndimage\n",
    "\n",
    "# Create sample satellite data with multiple bands\n",
    "lat = np.linspace(30, 35, 500)\n",
    "lon = np.linspace(-100, -95, 500)\n",
    "bands = ['red', 'green', 'blue', 'nir']\n",
    "\n",
    "# Create some sample data - in practice this would be loaded from files\n",
    "data = np.zeros((len(lat), len(lon), len(bands)))\n",
    "\n",
    "# Fill with simulated data\n",
    "for i, band in enumerate(bands):\n",
    "    base = np.random.normal(0, 1, size=(len(lat), len(lon)))\n",
    "    # Apply some smoothing to simulate realistic satellite imagery\n",
    "    data[:, :, i] = ndimage.gaussian_filter(base, sigma=5)\n",
    "    # Add some \"features\"\n",
    "    if band == 'nir':\n",
    "        # Higher NIR values in some regions (vegetation)\n",
    "        data[100:300, 200:400, i] += 2\n",
    "\n",
    "# Create NimbleNd array\n",
    "satellite_data = nd.Array(\n",
    "    data,\n",
    "    coords={'lat': lat, 'lon': lon, 'band': bands},\n",
    "    dims=['lat', 'lon', 'band'],\n",
    "    name='satellite_imagery'\n",
    ")\n",
    "\n",
    "# Calculate NDVI (Normalized Difference Vegetation Index)\n",
    "red = satellite_data[{'band': 'red'}]\n",
    "nir = satellite_data[{'band': 'nir'}]\n",
    "ndvi = (nir - red) / (nir + red)\n",
    "ndvi.name = 'ndvi'\n",
    "\n",
    "# Save the NDVI result\n",
    "nd.to_zarr(ndvi, 'ndvi_result.zarr')"
   ]
  },
  {
   "cell_type": "code",
   "execution_count": 11,
   "id": "540b1f53",
   "metadata": {},
   "outputs": [
    {
     "data": {
      "text/html": [
       "<div><p><b>Array</b>((2, 500, 500)), {<b>band</b>: (2,), <b>lat</b>: (500,), <b>lon</b>: (500,)}, name=<b>ndvi</b></p><table><tr><th>Dimensions</th><th>Coordinates</th></tr><tr><td>band</td><td>['nir' 'red']</td></tr><tr><td>lat</td><td>[30.         30.01002004 30.02004008 30.03006012 30.04008016 30.0501002\n",
       " 30.06012024 30.07014028 30.08016032 30.09018036]...</td></tr><tr><td>lon</td><td>[-100.          -99.98997996  -99.97995992  -99.96993988  -99.95991984\n",
       "  -99.9498998   -99.93987976  -99.92985972  -99.91983968  -99.90981964]...</td></tr></table><p><b>Data preview:</b></p><pre>[1. 1. 1. 1. 1. 1. 1. 1. 1. 1., ...]</pre></div>"
      ],
      "text/plain": [
       "Array((2, 500, 500), {'band': (2,), 'lat': (500,), 'lon': (500,)}, name='ndvi')"
      ]
     },
     "execution_count": 11,
     "metadata": {},
     "output_type": "execute_result"
    }
   ],
   "source": [
    "ndvi"
   ]
  },
  {
   "cell_type": "code",
   "execution_count": 12,
   "id": "abde932c",
   "metadata": {},
   "outputs": [
    {
     "data": {
      "text/html": [
       "<div><p><b>Array</b>((2, 500, 500)), {<b>band</b>: (2,), <b>lat</b>: (500,), <b>lon</b>: (500,)}, name=<b>ndvi</b></p><table><tr><th>Dimensions</th><th>Coordinates</th></tr><tr><td>band</td><td>['nir' 'red']</td></tr><tr><td>lat</td><td>[30.         30.01002004 30.02004008 30.03006012 30.04008016 30.0501002\n",
       " 30.06012024 30.07014028 30.08016032 30.09018036]...</td></tr><tr><td>lon</td><td>[-100.          -99.98997996  -99.97995992  -99.96993988  -99.95991984\n",
       "  -99.9498998   -99.93987976  -99.92985972  -99.91983968  -99.90981964]...</td></tr></table><p><b>Data preview:</b></p><pre>[1. 1. 1. 1. 1. 1. 1. 1. 1. 1., ...]</pre></div>"
      ],
      "text/plain": [
       "Array((2, 500, 500), {'band': (2,), 'lat': (500,), 'lon': (500,)}, name='ndvi')"
      ]
     },
     "execution_count": 12,
     "metadata": {},
     "output_type": "execute_result"
    }
   ],
   "source": [
    "ndvi"
   ]
  },
  {
   "cell_type": "code",
   "execution_count": 13,
   "id": "ccbc6665",
   "metadata": {},
   "outputs": [],
   "source": [
    "import icechunk"
   ]
  },
  {
   "cell_type": "code",
   "execution_count": 14,
   "id": "0665438e",
   "metadata": {},
   "outputs": [],
   "source": [
    "storage_config = icechunk.in_memory_storage()"
   ]
  },
  {
   "cell_type": "code",
   "execution_count": 15,
   "id": "d8870344",
   "metadata": {},
   "outputs": [],
   "source": [
    "repo = icechunk.Repository.create(storage_config)"
   ]
  },
  {
   "cell_type": "code",
   "execution_count": 16,
   "id": "56070c83",
   "metadata": {},
   "outputs": [],
   "source": [
    "session = repo.writable_session(\"main\")"
   ]
  },
  {
   "cell_type": "code",
   "execution_count": 17,
   "id": "0173cb8d",
   "metadata": {},
   "outputs": [
    {
     "name": "stderr",
     "output_type": "stream",
     "text": [
      "/home/carlos/remote/nimblend/.venv/lib/python3.13/site-packages/zarr/core/group.py:1099: UserWarning: The `compressor` argument is deprecated. Use `compressors` instead.\n",
      "  compressors = _parse_deprecated_compressor(\n"
     ]
    },
    {
     "ename": "TypeError",
     "evalue": "Expected a BytesBytesCodec. Got <class 'str'> instead.",
     "output_type": "error",
     "traceback": [
      "\u001b[31m---------------------------------------------------------------------------\u001b[39m",
      "\u001b[31mTypeError\u001b[39m                                 Traceback (most recent call last)",
      "\u001b[36mCell\u001b[39m\u001b[36m \u001b[39m\u001b[32mIn[17]\u001b[39m\u001b[32m, line 12\u001b[39m\n\u001b[32m      8\u001b[39m arr = nd.Array(data, coords, dims, name=\u001b[33m'\u001b[39m\u001b[33mlarge_data\u001b[39m\u001b[33m'\u001b[39m)\n\u001b[32m     10\u001b[39m \u001b[38;5;66;03m# Save to IceChunk\u001b[39;00m\n\u001b[32m---> \u001b[39m\u001b[32m12\u001b[39m \u001b[43mnd\u001b[49m\u001b[43m.\u001b[49m\u001b[43mto_icechunk\u001b[49m\u001b[43m(\u001b[49m\u001b[43marr\u001b[49m\u001b[43m,\u001b[49m\u001b[43m \u001b[49m\u001b[43msession\u001b[49m\u001b[43m,\u001b[49m\u001b[43m \u001b[49m\u001b[43mgroup\u001b[49m\u001b[43m=\u001b[49m\u001b[33;43m'\u001b[39;49m\u001b[33;43mmy_array\u001b[39;49m\u001b[33;43m'\u001b[39;49m\u001b[43m)\u001b[49m\n\u001b[32m     14\u001b[39m \u001b[38;5;66;03m# Use with Dask for efficient distributed computing\u001b[39;00m\n\u001b[32m     15\u001b[39m lazy_arr = arr.to_dask()\n",
      "\u001b[36mFile \u001b[39m\u001b[32m~/remote/nimblend/nimblend/src/nimblend/io/icechunk.py:254\u001b[39m, in \u001b[36mto_icechunk\u001b[39m\u001b[34m(obj, session, group, mode, safe_chunks, encoding, chunkmanager_store_kwargs, split_every)\u001b[39m\n\u001b[32m    251\u001b[39m writer._open_group(group=group, mode=mode)\n\u001b[32m    253\u001b[39m \u001b[38;5;66;03m# Write metadata and prepare for array writing\u001b[39;00m\n\u001b[32m--> \u001b[39m\u001b[32m254\u001b[39m \u001b[43mwriter\u001b[49m\u001b[43m.\u001b[49m\u001b[43mwrite_metadata\u001b[49m\u001b[43m(\u001b[49m\u001b[43mencoding\u001b[49m\u001b[43m)\u001b[49m\n\u001b[32m    256\u001b[39m \u001b[38;5;66;03m# Write in-memory arrays\u001b[39;00m\n\u001b[32m    257\u001b[39m writer.write_eager()\n",
      "\u001b[36mFile \u001b[39m\u001b[32m~/remote/nimblend/nimblend/src/nimblend/io/icechunk.py:123\u001b[39m, in \u001b[36m_NimbleNdArrayWriter.write_metadata\u001b[39m\u001b[34m(self, encoding)\u001b[39m\n\u001b[32m    120\u001b[39m     chunks = \u001b[38;5;28mself\u001b[39m.array.data.chunks\n\u001b[32m    122\u001b[39m \u001b[38;5;66;03m# Create the data array\u001b[39;00m\n\u001b[32m--> \u001b[39m\u001b[32m123\u001b[39m data_array = \u001b[38;5;28;43mself\u001b[39;49m\u001b[43m.\u001b[49m\u001b[43mzarr_store\u001b[49m\u001b[43m.\u001b[49m\u001b[43mcreate_dataset\u001b[49m\u001b[43m(\u001b[49m\n\u001b[32m    124\u001b[39m \u001b[43m    \u001b[49m\u001b[33;43m'\u001b[39;49m\u001b[33;43mdata\u001b[39;49m\u001b[33;43m'\u001b[39;49m\u001b[43m,\u001b[49m\n\u001b[32m    125\u001b[39m \u001b[43m    \u001b[49m\u001b[43mshape\u001b[49m\u001b[43m=\u001b[49m\u001b[38;5;28;43mself\u001b[39;49m\u001b[43m.\u001b[49m\u001b[43marray\u001b[49m\u001b[43m.\u001b[49m\u001b[43mdata\u001b[49m\u001b[43m.\u001b[49m\u001b[43mshape\u001b[49m\u001b[43m,\u001b[49m\n\u001b[32m    126\u001b[39m \u001b[43m    \u001b[49m\u001b[43mchunks\u001b[49m\u001b[43m=\u001b[49m\u001b[43mchunks\u001b[49m\u001b[43m,\u001b[49m\n\u001b[32m    127\u001b[39m \u001b[43m    \u001b[49m\u001b[43mdtype\u001b[49m\u001b[43m=\u001b[49m\u001b[38;5;28;43mself\u001b[39;49m\u001b[43m.\u001b[49m\u001b[43marray\u001b[49m\u001b[43m.\u001b[49m\u001b[43mdata\u001b[49m\u001b[43m.\u001b[49m\u001b[43mdtype\u001b[49m\u001b[43m,\u001b[49m\n\u001b[32m    128\u001b[39m \u001b[43m    \u001b[49m\u001b[43mcompressor\u001b[49m\u001b[43m=\u001b[49m\u001b[43mcompression\u001b[49m\n\u001b[32m    129\u001b[39m \u001b[43m\u001b[49m\u001b[43m)\u001b[49m\n\u001b[32m    131\u001b[39m \u001b[38;5;66;03m# Determine if the source is a lazy array\u001b[39;00m\n\u001b[32m    132\u001b[39m \u001b[38;5;28;01mif\u001b[39;00m \u001b[38;5;28mself\u001b[39m.array.is_lazy:\n",
      "\u001b[36mFile \u001b[39m\u001b[32m~/.local/share/uv/python/cpython-3.13.1-linux-x86_64-gnu/lib/python3.13/warnings.py:637\u001b[39m, in \u001b[36mdeprecated.__call__.<locals>.wrapper\u001b[39m\u001b[34m(*args, **kwargs)\u001b[39m\n\u001b[32m    634\u001b[39m \u001b[38;5;129m@functools\u001b[39m.wraps(arg)\n\u001b[32m    635\u001b[39m \u001b[38;5;28;01mdef\u001b[39;00m\u001b[38;5;250m \u001b[39m\u001b[34mwrapper\u001b[39m(*args, **kwargs):\n\u001b[32m    636\u001b[39m     warn(msg, category=category, stacklevel=stacklevel + \u001b[32m1\u001b[39m)\n\u001b[32m--> \u001b[39m\u001b[32m637\u001b[39m     \u001b[38;5;28;01mreturn\u001b[39;00m \u001b[43marg\u001b[49m\u001b[43m(\u001b[49m\u001b[43m*\u001b[49m\u001b[43margs\u001b[49m\u001b[43m,\u001b[49m\u001b[43m \u001b[49m\u001b[43m*\u001b[49m\u001b[43m*\u001b[49m\u001b[43mkwargs\u001b[49m\u001b[43m)\u001b[49m\n",
      "\u001b[36mFile \u001b[39m\u001b[32m~/remote/nimblend/.venv/lib/python3.13/site-packages/zarr/core/group.py:2517\u001b[39m, in \u001b[36mGroup.create_dataset\u001b[39m\u001b[34m(self, name, **kwargs)\u001b[39m\n\u001b[32m   2495\u001b[39m \u001b[38;5;129m@deprecated\u001b[39m(\u001b[33m\"\u001b[39m\u001b[33mUse Group.create_array instead.\u001b[39m\u001b[33m\"\u001b[39m)\n\u001b[32m   2496\u001b[39m \u001b[38;5;28;01mdef\u001b[39;00m\u001b[38;5;250m \u001b[39m\u001b[34mcreate_dataset\u001b[39m(\u001b[38;5;28mself\u001b[39m, name: \u001b[38;5;28mstr\u001b[39m, **kwargs: Any) -> Array:\n\u001b[32m   2497\u001b[39m \u001b[38;5;250m    \u001b[39m\u001b[33;03m\"\"\"Create an array.\u001b[39;00m\n\u001b[32m   2498\u001b[39m \n\u001b[32m   2499\u001b[39m \u001b[33;03m    .. deprecated:: 3.0.0\u001b[39;00m\n\u001b[32m   (...)\u001b[39m\u001b[32m   2515\u001b[39m \u001b[33;03m    a : Array\u001b[39;00m\n\u001b[32m   2516\u001b[39m \u001b[33;03m    \"\"\"\u001b[39;00m\n\u001b[32m-> \u001b[39m\u001b[32m2517\u001b[39m     \u001b[38;5;28;01mreturn\u001b[39;00m Array(\u001b[38;5;28;43mself\u001b[39;49m\u001b[43m.\u001b[49m\u001b[43m_sync\u001b[49m\u001b[43m(\u001b[49m\u001b[38;5;28;43mself\u001b[39;49m\u001b[43m.\u001b[49m\u001b[43m_async_group\u001b[49m\u001b[43m.\u001b[49m\u001b[43mcreate_dataset\u001b[49m\u001b[43m(\u001b[49m\u001b[43mname\u001b[49m\u001b[43m,\u001b[49m\u001b[43m \u001b[49m\u001b[43m*\u001b[49m\u001b[43m*\u001b[49m\u001b[43mkwargs\u001b[49m\u001b[43m)\u001b[49m\u001b[43m)\u001b[49m)\n",
      "\u001b[36mFile \u001b[39m\u001b[32m~/remote/nimblend/.venv/lib/python3.13/site-packages/zarr/core/sync.py:208\u001b[39m, in \u001b[36mSyncMixin._sync\u001b[39m\u001b[34m(self, coroutine)\u001b[39m\n\u001b[32m    205\u001b[39m \u001b[38;5;28;01mdef\u001b[39;00m\u001b[38;5;250m \u001b[39m\u001b[34m_sync\u001b[39m(\u001b[38;5;28mself\u001b[39m, coroutine: Coroutine[Any, Any, T]) -> T:\n\u001b[32m    206\u001b[39m     \u001b[38;5;66;03m# TODO: refactor this to to take *args and **kwargs and pass those to the method\u001b[39;00m\n\u001b[32m    207\u001b[39m     \u001b[38;5;66;03m# this should allow us to better type the sync wrapper\u001b[39;00m\n\u001b[32m--> \u001b[39m\u001b[32m208\u001b[39m     \u001b[38;5;28;01mreturn\u001b[39;00m \u001b[43msync\u001b[49m\u001b[43m(\u001b[49m\n\u001b[32m    209\u001b[39m \u001b[43m        \u001b[49m\u001b[43mcoroutine\u001b[49m\u001b[43m,\u001b[49m\n\u001b[32m    210\u001b[39m \u001b[43m        \u001b[49m\u001b[43mtimeout\u001b[49m\u001b[43m=\u001b[49m\u001b[43mconfig\u001b[49m\u001b[43m.\u001b[49m\u001b[43mget\u001b[49m\u001b[43m(\u001b[49m\u001b[33;43m\"\u001b[39;49m\u001b[33;43masync.timeout\u001b[39;49m\u001b[33;43m\"\u001b[39;49m\u001b[43m)\u001b[49m\u001b[43m,\u001b[49m\n\u001b[32m    211\u001b[39m \u001b[43m    \u001b[49m\u001b[43m)\u001b[49m\n",
      "\u001b[36mFile \u001b[39m\u001b[32m~/remote/nimblend/.venv/lib/python3.13/site-packages/zarr/core/sync.py:163\u001b[39m, in \u001b[36msync\u001b[39m\u001b[34m(coro, loop, timeout)\u001b[39m\n\u001b[32m    160\u001b[39m return_result = \u001b[38;5;28mnext\u001b[39m(\u001b[38;5;28miter\u001b[39m(finished)).result()\n\u001b[32m    162\u001b[39m \u001b[38;5;28;01mif\u001b[39;00m \u001b[38;5;28misinstance\u001b[39m(return_result, \u001b[38;5;167;01mBaseException\u001b[39;00m):\n\u001b[32m--> \u001b[39m\u001b[32m163\u001b[39m     \u001b[38;5;28;01mraise\u001b[39;00m return_result\n\u001b[32m    164\u001b[39m \u001b[38;5;28;01melse\u001b[39;00m:\n\u001b[32m    165\u001b[39m     \u001b[38;5;28;01mreturn\u001b[39;00m return_result\n",
      "\u001b[36mFile \u001b[39m\u001b[32m~/remote/nimblend/.venv/lib/python3.13/site-packages/zarr/core/sync.py:119\u001b[39m, in \u001b[36m_runner\u001b[39m\u001b[34m(coro)\u001b[39m\n\u001b[32m    114\u001b[39m \u001b[38;5;250m\u001b[39m\u001b[33;03m\"\"\"\u001b[39;00m\n\u001b[32m    115\u001b[39m \u001b[33;03mAwait a coroutine and return the result of running it. If awaiting the coroutine raises an\u001b[39;00m\n\u001b[32m    116\u001b[39m \u001b[33;03mexception, the exception will be returned.\u001b[39;00m\n\u001b[32m    117\u001b[39m \u001b[33;03m\"\"\"\u001b[39;00m\n\u001b[32m    118\u001b[39m \u001b[38;5;28;01mtry\u001b[39;00m:\n\u001b[32m--> \u001b[39m\u001b[32m119\u001b[39m     \u001b[38;5;28;01mreturn\u001b[39;00m \u001b[38;5;28;01mawait\u001b[39;00m coro\n\u001b[32m    120\u001b[39m \u001b[38;5;28;01mexcept\u001b[39;00m \u001b[38;5;167;01mException\u001b[39;00m \u001b[38;5;28;01mas\u001b[39;00m ex:\n\u001b[32m    121\u001b[39m     \u001b[38;5;28;01mreturn\u001b[39;00m ex\n",
      "\u001b[36mFile \u001b[39m\u001b[32m~/remote/nimblend/.venv/lib/python3.13/site-packages/zarr/core/group.py:1152\u001b[39m, in \u001b[36mAsyncGroup.create_dataset\u001b[39m\u001b[34m(self, name, shape, **kwargs)\u001b[39m\n\u001b[32m   1150\u001b[39m \u001b[38;5;28;01mif\u001b[39;00m \u001b[33m\"\u001b[39m\u001b[33mdtype\u001b[39m\u001b[33m\"\u001b[39m \u001b[38;5;129;01mnot\u001b[39;00m \u001b[38;5;129;01min\u001b[39;00m kwargs \u001b[38;5;129;01mand\u001b[39;00m data \u001b[38;5;129;01mis\u001b[39;00m \u001b[38;5;129;01mnot\u001b[39;00m \u001b[38;5;28;01mNone\u001b[39;00m:\n\u001b[32m   1151\u001b[39m     kwargs[\u001b[33m\"\u001b[39m\u001b[33mdtype\u001b[39m\u001b[33m\"\u001b[39m] = data.dtype\n\u001b[32m-> \u001b[39m\u001b[32m1152\u001b[39m array = \u001b[38;5;28;01mawait\u001b[39;00m \u001b[38;5;28mself\u001b[39m.create_array(name, shape=shape, **kwargs)\n\u001b[32m   1153\u001b[39m \u001b[38;5;28;01mif\u001b[39;00m data \u001b[38;5;129;01mis\u001b[39;00m \u001b[38;5;129;01mnot\u001b[39;00m \u001b[38;5;28;01mNone\u001b[39;00m:\n\u001b[32m   1154\u001b[39m     \u001b[38;5;28;01mawait\u001b[39;00m array.setitem(\u001b[38;5;28mslice\u001b[39m(\u001b[38;5;28;01mNone\u001b[39;00m), data)\n",
      "\u001b[36mFile \u001b[39m\u001b[32m~/remote/nimblend/.venv/lib/python3.13/site-packages/zarr/core/group.py:1102\u001b[39m, in \u001b[36mAsyncGroup.create_array\u001b[39m\u001b[34m(self, name, shape, dtype, chunks, shards, filters, compressors, compressor, serializer, fill_value, order, attributes, chunk_key_encoding, dimension_names, storage_options, overwrite, config)\u001b[39m\n\u001b[32m   1007\u001b[39m \u001b[38;5;250m\u001b[39m\u001b[33;03m\"\"\"Create an array within this group.\u001b[39;00m\n\u001b[32m   1008\u001b[39m \n\u001b[32m   1009\u001b[39m \u001b[33;03mThis method lightly wraps :func:`zarr.core.array.create_array`.\u001b[39;00m\n\u001b[32m   (...)\u001b[39m\u001b[32m   1097\u001b[39m \n\u001b[32m   1098\u001b[39m \u001b[33;03m\"\"\"\u001b[39;00m\n\u001b[32m   1099\u001b[39m compressors = _parse_deprecated_compressor(\n\u001b[32m   1100\u001b[39m     compressor, compressors, zarr_format=\u001b[38;5;28mself\u001b[39m.metadata.zarr_format\n\u001b[32m   1101\u001b[39m )\n\u001b[32m-> \u001b[39m\u001b[32m1102\u001b[39m \u001b[38;5;28;01mreturn\u001b[39;00m \u001b[38;5;28;01mawait\u001b[39;00m create_array(\n\u001b[32m   1103\u001b[39m     store=\u001b[38;5;28mself\u001b[39m.store_path,\n\u001b[32m   1104\u001b[39m     name=name,\n\u001b[32m   1105\u001b[39m     shape=shape,\n\u001b[32m   1106\u001b[39m     dtype=dtype,\n\u001b[32m   1107\u001b[39m     chunks=chunks,\n\u001b[32m   1108\u001b[39m     shards=shards,\n\u001b[32m   1109\u001b[39m     filters=filters,\n\u001b[32m   1110\u001b[39m     compressors=compressors,\n\u001b[32m   1111\u001b[39m     serializer=serializer,\n\u001b[32m   1112\u001b[39m     fill_value=fill_value,\n\u001b[32m   1113\u001b[39m     order=order,\n\u001b[32m   1114\u001b[39m     zarr_format=\u001b[38;5;28mself\u001b[39m.metadata.zarr_format,\n\u001b[32m   1115\u001b[39m     attributes=attributes,\n\u001b[32m   1116\u001b[39m     chunk_key_encoding=chunk_key_encoding,\n\u001b[32m   1117\u001b[39m     dimension_names=dimension_names,\n\u001b[32m   1118\u001b[39m     storage_options=storage_options,\n\u001b[32m   1119\u001b[39m     overwrite=overwrite,\n\u001b[32m   1120\u001b[39m     config=config,\n\u001b[32m   1121\u001b[39m )\n",
      "\u001b[36mFile \u001b[39m\u001b[32m~/remote/nimblend/.venv/lib/python3.13/site-packages/zarr/core/array.py:4146\u001b[39m, in \u001b[36mcreate_array\u001b[39m\u001b[34m(store, name, shape, dtype, data, chunks, shards, filters, compressors, serializer, fill_value, order, zarr_format, attributes, chunk_key_encoding, dimension_names, storage_options, overwrite, config, write_data)\u001b[39m\n\u001b[32m   4141\u001b[39m store_path = \u001b[38;5;28;01mawait\u001b[39;00m make_store_path(store, path=name, mode=mode, storage_options=storage_options)\n\u001b[32m   4143\u001b[39m data_parsed, shape_parsed, dtype_parsed = _parse_data_params(\n\u001b[32m   4144\u001b[39m     data=data, shape=shape, dtype=dtype\n\u001b[32m   4145\u001b[39m )\n\u001b[32m-> \u001b[39m\u001b[32m4146\u001b[39m result = \u001b[38;5;28;01mawait\u001b[39;00m init_array(\n\u001b[32m   4147\u001b[39m     store_path=store_path,\n\u001b[32m   4148\u001b[39m     shape=shape_parsed,\n\u001b[32m   4149\u001b[39m     dtype=dtype_parsed,\n\u001b[32m   4150\u001b[39m     chunks=chunks,\n\u001b[32m   4151\u001b[39m     shards=shards,\n\u001b[32m   4152\u001b[39m     filters=filters,\n\u001b[32m   4153\u001b[39m     compressors=compressors,\n\u001b[32m   4154\u001b[39m     serializer=serializer,\n\u001b[32m   4155\u001b[39m     fill_value=fill_value,\n\u001b[32m   4156\u001b[39m     order=order,\n\u001b[32m   4157\u001b[39m     zarr_format=zarr_format,\n\u001b[32m   4158\u001b[39m     attributes=attributes,\n\u001b[32m   4159\u001b[39m     chunk_key_encoding=chunk_key_encoding,\n\u001b[32m   4160\u001b[39m     dimension_names=dimension_names,\n\u001b[32m   4161\u001b[39m     overwrite=overwrite,\n\u001b[32m   4162\u001b[39m     config=config,\n\u001b[32m   4163\u001b[39m )\n\u001b[32m   4165\u001b[39m \u001b[38;5;28;01mif\u001b[39;00m write_data \u001b[38;5;129;01mis\u001b[39;00m \u001b[38;5;28;01mTrue\u001b[39;00m \u001b[38;5;129;01mand\u001b[39;00m data_parsed \u001b[38;5;129;01mis\u001b[39;00m \u001b[38;5;129;01mnot\u001b[39;00m \u001b[38;5;28;01mNone\u001b[39;00m:\n\u001b[32m   4166\u001b[39m     \u001b[38;5;28;01mawait\u001b[39;00m result._set_selection(\n\u001b[32m   4167\u001b[39m         BasicIndexer(..., shape=result.shape, chunk_grid=result.metadata.chunk_grid),\n\u001b[32m   4168\u001b[39m         data_parsed,\n\u001b[32m   4169\u001b[39m         prototype=default_buffer_prototype(),\n\u001b[32m   4170\u001b[39m     )\n",
      "\u001b[36mFile \u001b[39m\u001b[32m~/remote/nimblend/.venv/lib/python3.13/site-packages/zarr/core/array.py:3961\u001b[39m, in \u001b[36minit_array\u001b[39m\u001b[34m(store_path, shape, dtype, chunks, shards, filters, compressors, serializer, fill_value, order, zarr_format, attributes, chunk_key_encoding, dimension_names, overwrite, config)\u001b[39m\n\u001b[32m   3949\u001b[39m     meta = AsyncArray._create_metadata_v2(\n\u001b[32m   3950\u001b[39m         shape=shape_parsed,\n\u001b[32m   3951\u001b[39m         dtype=dtype_parsed,\n\u001b[32m   (...)\u001b[39m\u001b[32m   3958\u001b[39m         attributes=attributes,\n\u001b[32m   3959\u001b[39m     )\n\u001b[32m   3960\u001b[39m \u001b[38;5;28;01melse\u001b[39;00m:\n\u001b[32m-> \u001b[39m\u001b[32m3961\u001b[39m     array_array, array_bytes, bytes_bytes = \u001b[43m_parse_chunk_encoding_v3\u001b[49m\u001b[43m(\u001b[49m\n\u001b[32m   3962\u001b[39m \u001b[43m        \u001b[49m\u001b[43mcompressors\u001b[49m\u001b[43m=\u001b[49m\u001b[43mcompressors\u001b[49m\u001b[43m,\u001b[49m\n\u001b[32m   3963\u001b[39m \u001b[43m        \u001b[49m\u001b[43mfilters\u001b[49m\u001b[43m=\u001b[49m\u001b[43mfilters\u001b[49m\u001b[43m,\u001b[49m\n\u001b[32m   3964\u001b[39m \u001b[43m        \u001b[49m\u001b[43mserializer\u001b[49m\u001b[43m=\u001b[49m\u001b[43mserializer\u001b[49m\u001b[43m,\u001b[49m\n\u001b[32m   3965\u001b[39m \u001b[43m        \u001b[49m\u001b[43mdtype\u001b[49m\u001b[43m=\u001b[49m\u001b[43mdtype_parsed\u001b[49m\u001b[43m,\u001b[49m\n\u001b[32m   3966\u001b[39m \u001b[43m    \u001b[49m\u001b[43m)\u001b[49m\n\u001b[32m   3967\u001b[39m     sub_codecs = cast(\u001b[38;5;28mtuple\u001b[39m[Codec, ...], (*array_array, array_bytes, *bytes_bytes))\n\u001b[32m   3968\u001b[39m     codecs_out: \u001b[38;5;28mtuple\u001b[39m[Codec, ...]\n",
      "\u001b[36mFile \u001b[39m\u001b[32m~/remote/nimblend/.venv/lib/python3.13/site-packages/zarr/core/array.py:4330\u001b[39m, in \u001b[36m_parse_chunk_encoding_v3\u001b[39m\u001b[34m(compressors, filters, serializer, dtype)\u001b[39m\n\u001b[32m   4327\u001b[39m     \u001b[38;5;28;01melse\u001b[39;00m:\n\u001b[32m   4328\u001b[39m         maybe_bytes_bytes = cast(Iterable[Codec | \u001b[38;5;28mdict\u001b[39m[\u001b[38;5;28mstr\u001b[39m, JSON]], compressors)\n\u001b[32m-> \u001b[39m\u001b[32m4330\u001b[39m     out_bytes_bytes = \u001b[38;5;28;43mtuple\u001b[39;49m\u001b[43m(\u001b[49m\u001b[43m_parse_bytes_bytes_codec\u001b[49m\u001b[43m(\u001b[49m\u001b[43mc\u001b[49m\u001b[43m)\u001b[49m\u001b[43m \u001b[49m\u001b[38;5;28;43;01mfor\u001b[39;49;00m\u001b[43m \u001b[49m\u001b[43mc\u001b[49m\u001b[43m \u001b[49m\u001b[38;5;129;43;01min\u001b[39;49;00m\u001b[43m \u001b[49m\u001b[43mmaybe_bytes_bytes\u001b[49m\u001b[43m)\u001b[49m\n\u001b[32m   4332\u001b[39m \u001b[38;5;28;01mreturn\u001b[39;00m out_array_array, out_array_bytes, out_bytes_bytes\n",
      "\u001b[36mFile \u001b[39m\u001b[32m~/remote/nimblend/.venv/lib/python3.13/site-packages/zarr/core/array.py:4330\u001b[39m, in \u001b[36m<genexpr>\u001b[39m\u001b[34m(.0)\u001b[39m\n\u001b[32m   4327\u001b[39m     \u001b[38;5;28;01melse\u001b[39;00m:\n\u001b[32m   4328\u001b[39m         maybe_bytes_bytes = cast(Iterable[Codec | \u001b[38;5;28mdict\u001b[39m[\u001b[38;5;28mstr\u001b[39m, JSON]], compressors)\n\u001b[32m-> \u001b[39m\u001b[32m4330\u001b[39m     out_bytes_bytes = \u001b[38;5;28mtuple\u001b[39m(\u001b[43m_parse_bytes_bytes_codec\u001b[49m\u001b[43m(\u001b[49m\u001b[43mc\u001b[49m\u001b[43m)\u001b[49m \u001b[38;5;28;01mfor\u001b[39;00m c \u001b[38;5;129;01min\u001b[39;00m maybe_bytes_bytes)\n\u001b[32m   4332\u001b[39m \u001b[38;5;28;01mreturn\u001b[39;00m out_array_array, out_array_bytes, out_bytes_bytes\n",
      "\u001b[36mFile \u001b[39m\u001b[32m~/remote/nimblend/.venv/lib/python3.13/site-packages/zarr/registry.py:184\u001b[39m, in \u001b[36m_parse_bytes_bytes_codec\u001b[39m\u001b[34m(data)\u001b[39m\n\u001b[32m    182\u001b[39m \u001b[38;5;28;01melse\u001b[39;00m:\n\u001b[32m    183\u001b[39m     \u001b[38;5;28;01mif\u001b[39;00m \u001b[38;5;129;01mnot\u001b[39;00m \u001b[38;5;28misinstance\u001b[39m(data, BytesBytesCodec):\n\u001b[32m--> \u001b[39m\u001b[32m184\u001b[39m         \u001b[38;5;28;01mraise\u001b[39;00m \u001b[38;5;167;01mTypeError\u001b[39;00m(\u001b[33mf\u001b[39m\u001b[33m\"\u001b[39m\u001b[33mExpected a BytesBytesCodec. Got \u001b[39m\u001b[38;5;132;01m{\u001b[39;00m\u001b[38;5;28mtype\u001b[39m(data)\u001b[38;5;132;01m}\u001b[39;00m\u001b[33m instead.\u001b[39m\u001b[33m\"\u001b[39m)\n\u001b[32m    185\u001b[39m     result = data\n\u001b[32m    186\u001b[39m \u001b[38;5;28;01mreturn\u001b[39;00m result\n",
      "\u001b[31mTypeError\u001b[39m: Expected a BytesBytesCodec. Got <class 'str'> instead."
     ]
    }
   ],
   "source": [
    "import nimblend as nd\n",
    "import numpy as np\n",
    "\n",
    "# Create an array\n",
    "data = np.random.rand(1000, 1000)\n",
    "coords = {'x': np.arange(1000), 'y': np.arange(1000)}\n",
    "dims=['x', 'y']\n",
    "arr = nd.Array(data, coords, dims, name='large_data')\n",
    "\n",
    "# Save to IceChunk\n",
    "\n",
    "nd.to_icechunk(arr, session, group='my_array')\n",
    "\n",
    "# Use with Dask for efficient distributed computing\n",
    "lazy_arr = arr.to_dask()\n",
    "\n",
    "nd.to_icechunk(lazy_arr, session, group='large_data')"
   ]
  },
  {
   "cell_type": "code",
   "execution_count": null,
   "id": "db4f6305",
   "metadata": {},
   "outputs": [],
   "source": [
    "session.store"
   ]
  },
  {
   "cell_type": "code",
   "execution_count": null,
   "id": "9fb90c03",
   "metadata": {},
   "outputs": [],
   "source": []
  }
 ],
 "metadata": {
  "kernelspec": {
   "display_name": ".venv",
   "language": "python",
   "name": "python3"
  },
  "language_info": {
   "codemirror_mode": {
    "name": "ipython",
    "version": 3
   },
   "file_extension": ".py",
   "mimetype": "text/x-python",
   "name": "python",
   "nbconvert_exporter": "python",
   "pygments_lexer": "ipython3",
   "version": "3.13.1"
  }
 },
 "nbformat": 4,
 "nbformat_minor": 5
}

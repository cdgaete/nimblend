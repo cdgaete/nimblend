{
 "cells": [
  {
   "cell_type": "code",
   "execution_count": 1,
   "id": "6cce1824",
   "metadata": {},
   "outputs": [],
   "source": [
    "import numpy as np\n",
    "import icechunk\n",
    "from nimblend import Array, to_zarr, from_zarr, to_icechunk, from_series, to_series"
   ]
  },
  {
   "cell_type": "code",
   "execution_count": 2,
   "id": "0c5ec502",
   "metadata": {},
   "outputs": [
    {
     "name": "stdout",
     "output_type": "stream",
     "text": [
      "Array((3, 3), {'y': (3,), 'x': (3,)})\n",
      "True\n"
     ]
    },
    {
     "name": "stderr",
     "output_type": "stream",
     "text": [
      "/home/vscode/.local/lib/python3.12/site-packages/zarr/codecs/vlen_utf8.py:44: UserWarning: The codec `vlen-utf8` is currently not part in the Zarr format 3 specification. It may not be supported by other zarr implementations and may change in the future.\n",
      "  return cls(**configuration_parsed)\n",
      "/home/vscode/.local/lib/python3.12/site-packages/zarr/core/array.py:3989: UserWarning: The dtype `<U1` is currently not part in the Zarr format 3 specification. It may not be supported by other zarr implementations and may change in the future.\n",
      "  meta = AsyncArray._create_metadata_v3(\n",
      "/home/vscode/.local/lib/python3.12/site-packages/zarr/codecs/vlen_utf8.py:44: UserWarning: The codec `vlen-utf8` is currently not part in the Zarr format 3 specification. It may not be supported by other zarr implementations and may change in the future.\n",
      "  return cls(**configuration_parsed)\n"
     ]
    }
   ],
   "source": [
    "# Create two arrays with different coordinates\n",
    "data1 = np.array([[1, 2], [3, 4]])\n",
    "coords1 = {'x': ['a', 'b'], 'y': [0, 1]}\n",
    "arr1 = Array(data1, coords1)\n",
    "\n",
    "data2 = np.array([[10, 20, 30], [40, 50, 60]])\n",
    "coords2 = {'x': ['b', 'c'], 'y': [0, 1, 2]}\n",
    "arr2 = Array(data2, coords2)\n",
    "\n",
    "# Operation automatically aligns coordinates\n",
    "result = arr1 + arr2\n",
    "print(result)\n",
    "\n",
    "# Create a lazy array with Dask\n",
    "lazy_arr = Array(data1, coords1, chunks=\"auto\")\n",
    "print(lazy_arr.is_lazy)  # True\n",
    "\n",
    "# Save array to Zarr format\n",
    "to_zarr(result, \"result.zarr\")\n",
    "\n",
    "# Load from Zarr\n",
    "loaded = from_zarr(\"result.zarr\")"
   ]
  },
  {
   "cell_type": "code",
   "execution_count": 3,
   "id": "ad20149f",
   "metadata": {},
   "outputs": [],
   "source": [
    "storage = icechunk.local_filesystem_storage(\"/workspaces/nimblend/dataset\")\n",
    "repo = icechunk.Repository.open_or_create(storage)\n",
    "session = repo.writable_session(\"main\")"
   ]
  },
  {
   "cell_type": "code",
   "execution_count": 4,
   "id": "c8f90c10",
   "metadata": {},
   "outputs": [],
   "source": [
    "def create_example_arrays():\n",
    "    # Create some sample data\n",
    "    data1 = np.array([\n",
    "        [[1, 2, 3], [4, 5, 6]],\n",
    "        [[7, 8, 9], [10, 11, 12]],\n",
    "    ])\n",
    "\n",
    "    data2 = np.array([\n",
    "        [[13, 14, 15], [16, 17, 18]],\n",
    "        [[19, 20, 21], [22, 23, 24]],\n",
    "    ])\n",
    "\n",
    "    # Define coordinates with strings for dimensions\n",
    "    coords1 = {\n",
    "        'x': np.array(['A', 'B']),\n",
    "        'y': np.array(['one', 'two']),\n",
    "        'z': np.array(['i', 'ii', 'iii'])\n",
    "    }\n",
    "\n",
    "    coords2 = {\n",
    "        'x': np.array(['C', 'D']),\n",
    "        'y': np.array(['three', 'four']),\n",
    "        'z': np.array(['iv', 'v', 'vi'])\n",
    "    }\n",
    "\n",
    "    # Create NimbleNd Arrays\n",
    "    arr1 = Array(data1, coords=coords1, dims=['x', 'y', 'z'], name='Array 1')\n",
    "    arr2 = Array(data2, coords=coords2, dims=['x', 'y', 'z'], name='Array 2')\n",
    "\n",
    "    return arr1, arr2"
   ]
  },
  {
   "cell_type": "code",
   "execution_count": 5,
   "id": "3c0ce771",
   "metadata": {},
   "outputs": [],
   "source": [
    "arr1, arr2 = create_example_arrays()"
   ]
  },
  {
   "cell_type": "code",
   "execution_count": 6,
   "id": "aee9e5e1",
   "metadata": {},
   "outputs": [
    {
     "name": "stderr",
     "output_type": "stream",
     "text": [
      "/home/vscode/.local/lib/python3.12/site-packages/zarr/codecs/vlen_utf8.py:44: UserWarning: The codec `vlen-utf8` is currently not part in the Zarr format 3 specification. It may not be supported by other zarr implementations and may change in the future.\n",
      "  return cls(**configuration_parsed)\n",
      "/home/vscode/.local/lib/python3.12/site-packages/zarr/core/array.py:3989: UserWarning: The dtype `<U1` is currently not part in the Zarr format 3 specification. It may not be supported by other zarr implementations and may change in the future.\n",
      "  meta = AsyncArray._create_metadata_v3(\n"
     ]
    }
   ],
   "source": [
    "to_icechunk(result, session)"
   ]
  },
  {
   "cell_type": "code",
   "execution_count": 7,
   "id": "88edccc1",
   "metadata": {},
   "outputs": [],
   "source": [
    "def test_operations():\n",
    "    # Create example arrays\n",
    "    arr1, arr2 = create_example_arrays()\n",
    "\n",
    "    # Test addition\n",
    "    print(\"Adding arrays:\")\n",
    "    result_add = arr1 + arr2\n",
    "    print(result_add)\n",
    "\n",
    "    # Export to Zarr format\n",
    "    print(\"\\nExporting Array 1 to Zarr format...\")\n",
    "    to_zarr(arr1, 'arr1.zarr')\n",
    "\n",
    "    # Import from Zarr format\n",
    "    print(\"\\nImporting Array from Zarr format...\")\n",
    "    imported_arr1 = from_zarr('arr1.zarr')\n",
    "    print(imported_arr1)\n",
    "\n",
    "    # Example usage of to_icechunk would go here (ensure icechunk is installed)\n",
    "    # Assuming a session is created and available as `session`\n",
    "    # print(\"\\nExporting Array 1 to IceChunk format...\")\n",
    "    # to_icechunk(arr1, session, group='example_group')\n",
    "\n",
    "    # Example series conversion (using strings for Series coordinates)\n",
    "    print(\"\\nConverting Array 1 to a pandas Series:\")\n",
    "    series_arr1 = to_series(arr1, format='pandas')\n",
    "    print(series_arr1)\n",
    "\n",
    "    print(\"\\nConverting Series back to NimbleNd Array:\")\n",
    "    converted_arr1 = from_series(series_arr1)\n",
    "    print(converted_arr1)"
   ]
  },
  {
   "cell_type": "code",
   "execution_count": 8,
   "id": "22378f2c",
   "metadata": {},
   "outputs": [
    {
     "name": "stdout",
     "output_type": "stream",
     "text": [
      "Adding arrays:\n",
      "Array((6, 4, 4), {'z': (6,), 'y': (4,), 'x': (4,)}, name='Array 1')\n",
      "\n",
      "Exporting Array 1 to Zarr format...\n",
      "\n",
      "Importing Array from Zarr format...\n",
      "Array((2, 2, 3), {'x': (2,), 'y': (2,), 'z': (3,)}, name='Array 1')\n",
      "\n",
      "Converting Array 1 to a pandas Series:\n",
      "x  y    z  \n",
      "A  one  i       1\n",
      "        ii      2\n",
      "        iii     3\n",
      "   two  i       4\n",
      "        ii      5\n",
      "        iii     6\n",
      "B  one  i       7\n",
      "        ii      8\n",
      "        iii     9\n",
      "   two  i      10\n",
      "        ii     11\n",
      "        iii    12\n",
      "Name: Array 1, dtype: int64\n",
      "\n",
      "Converting Series back to NimbleNd Array:\n",
      "Array((2, 2, 3), {'x': (2,), 'y': (2,), 'z': (3,)}, name='value')\n"
     ]
    },
    {
     "name": "stderr",
     "output_type": "stream",
     "text": [
      "/home/vscode/.local/lib/python3.12/site-packages/zarr/codecs/vlen_utf8.py:44: UserWarning: The codec `vlen-utf8` is currently not part in the Zarr format 3 specification. It may not be supported by other zarr implementations and may change in the future.\n",
      "  return cls(**configuration_parsed)\n",
      "/home/vscode/.local/lib/python3.12/site-packages/zarr/core/array.py:3989: UserWarning: The dtype `<U1` is currently not part in the Zarr format 3 specification. It may not be supported by other zarr implementations and may change in the future.\n",
      "  meta = AsyncArray._create_metadata_v3(\n",
      "/home/vscode/.local/lib/python3.12/site-packages/zarr/core/array.py:3989: UserWarning: The dtype `<U3` is currently not part in the Zarr format 3 specification. It may not be supported by other zarr implementations and may change in the future.\n",
      "  meta = AsyncArray._create_metadata_v3(\n",
      "/home/vscode/.local/lib/python3.12/site-packages/numpy/_core/numeric.py:353: RuntimeWarning: invalid value encountered in cast\n",
      "  multiarray.copyto(a, fill_value, casting='unsafe')\n"
     ]
    }
   ],
   "source": [
    "test_operations()"
   ]
  },
  {
   "cell_type": "code",
   "execution_count": null,
   "id": "b3b5d19c",
   "metadata": {},
   "outputs": [],
   "source": []
  }
 ],
 "metadata": {
  "kernelspec": {
   "display_name": "Python 3",
   "language": "python",
   "name": "python3"
  },
  "language_info": {
   "codemirror_mode": {
    "name": "ipython",
    "version": 3
   },
   "file_extension": ".py",
   "mimetype": "text/x-python",
   "name": "python",
   "nbconvert_exporter": "python",
   "pygments_lexer": "ipython3",
   "version": "3.12.9"
  }
 },
 "nbformat": 4,
 "nbformat_minor": 5
}
